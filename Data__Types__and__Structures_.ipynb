{
  "nbformat": 4,
  "nbformat_minor": 0,
  "metadata": {
    "colab": {
      "provenance": []
    },
    "kernelspec": {
      "name": "python3",
      "display_name": "Python 3"
    },
    "language_info": {
      "name": "python"
    }
  },
  "cells": [
    {
      "cell_type": "markdown",
      "source": [
        "Q1. What are data structures, and why are they important?\n",
        "\n",
        ". A data structure is a way of organizing, storing and managing data so that it can be used efficiently.\n",
        ".They are important because of the following ways:**1.Efficiency**- Choosing the right data structure can make operations much faster.\n",
        "**2.Better resource management**- Saves memory and processing time.\n",
        "**3.Socalability**- Hepls handls large amountss of data without performance issues.**5.Real world application**.\n",
        "\n",
        "\n",
        "Q2. Explain the difference between mutable and immutable data types with examples?\n",
        "\n",
        ".-> Mutable data types are those whose values can be changed after they are created.\n",
        "Immutable data types are those whose values cannot be changed once created.\n",
        "Example:\n",
        "# Mutable example\n",
        "my_list = [1, 2, 3]\n",
        "\n",
        "my_list[0] = 10\n",
        "\n",
        "print(my_list)\n",
        " # Output: [10, 2, 3]\n",
        "# Immutable example\n",
        "my_str = \"hello\"\n",
        "\n",
        "my_str[0] = \"H\"\n",
        "\n",
        "if we will print(my_str)\n",
        "than it will throw an error\n",
        "\n",
        "\n",
        "Q3. What are the main differences between lists and tuples in Python?\n",
        "\n",
        ". List is mutable-once created the elements of a list can be changed ,added or removed.\n",
        "\n",
        ". Tuple is immutable- once created ,the elements of a tuple cannot be altered.\n",
        "\n",
        ". Syntax- my_list = [1,2,3], my_tuple=(1,2,3)\n",
        "\n",
        ".**Performance**\n",
        "\n",
        ". Lists require more money and are slower in opreations because they allow dynamic change.\n",
        "\n",
        ". Tuples are faster and requires less memory due to their fixed size and immutability.\n",
        "\n",
        ". Use case - list is best when the data changes over time and tuple is best when data should remain constant.\n",
        "\n",
        "\n",
        "Q4.Describe how dictionaries store data?\n",
        "\n",
        ".In Python, a dictionary stores data using a structure called a hash table, which allows fast lookups, insertions, and deletions.\n",
        "\n",
        "Here’s how it works step-by-step:\n",
        "\n",
        "1️⃣ Structure of a Dictionary\n",
        "\n",
        ".A dictionary stores data as key-value pairs.\n",
        "\n",
        ".Example:\n",
        "\n",
        ".my_dict = {\"name\": \"Bejeel\", \"age\": 21}\n",
        "\n",
        "\n",
        ".Here:\n",
        "\n",
        ".\"name\" is a key → \"Bejeel\" is its value\n",
        "\n",
        ".\"age\" is a key → 21 is its value\n",
        "\n",
        "2️⃣ Keys are Hashed\n",
        "\n",
        ".Every key is passed through a hash function → produces a unique integer called  a hash value.\n",
        "\n",
        ".The hash value decides where to store the value in memory.\n",
        "\n",
        "\n",
        "\n",
        "3️⃣ How Values are Stored\n",
        "\n",
        ".The dictionary uses the hash value as an index to put the key and value in a slot in the hash table.\n",
        "\n",
        ".Each slot holds:\n",
        "\n",
        ".The key\n",
        "\n",
        ".The value\n",
        "\n",
        ".The hash value (to speed up searches)\n",
        "\n",
        "4️⃣ Handling Collisions\n",
        "\n",
        ".Sometimes two different keys produce the same hash value (called a collision).\n",
        "\n",
        ".Python handles collisions by:\n",
        "\n",
        ".Searching for the next free slot in the table (open addressing).\n",
        "\n",
        ".Or using a linked list-like chain (chaining, but Python mainly uses open addressing).\n",
        "\n",
        "5️⃣ Why Dictionaries are Fast\n",
        "\n",
        ".Access time is O(1) on average → meaning it takes about the same time to find a value no matter how big the dictionary is.\n",
        "\n",
        ".This is much faster than a list, where searching is O(n).\n",
        "\n",
        "\n",
        "Q5. Why might you use a set instead of a list in Python?\n",
        "\n",
        ".1-To store unique items.\n",
        "\n",
        ". Set- Automatically removes duplicates.\n",
        "\n",
        ". List- Allows duplicates so you'd have to manually remove them.\n",
        "\n",
        ".2- Faster membership checking.\n",
        "\n",
        ". Set uses a hash table, so checking if an elements exists is 0(1) on average.\n",
        "\n",
        ". List requires scanning each elements-0(n) times.\n",
        "\n",
        ".3- Efficient mathematical operations.\n",
        "\n",
        ". Sets have built in methods for union intersection, difference, and symmertric difference, which are faster and cleaner than doing the same with lists.\n",
        "\n",
        ".4- No concern for order.\n",
        "\n",
        ". Set is unordered, so if you don't care about elements order its simpler.\n",
        "\n",
        ". List preserves insertion order.\n",
        "\n",
        "\n",
        "Q6.What is a string in Python, and how is it different from a list?\n",
        "\n",
        ".String: A string is a sequence of characters. Python treats anything inside quotes as a string. This includes letters, numbers,\n",
        "and symbols. Python has no character data type so single character is a string of length 1.\n",
        "String different from list:\n",
        "\n",
        "1. Data Type : A string stores only characters, while a list can store elements of any data type (numbers,\n",
        "strings, objects, etc.).\n",
        "\n",
        "2. Mutability : Strings are immutable, whereas lists are mutable .\n",
        "\n",
        "3. Element Type : Strings can contain only characters, but lists can have mixed data types.\n",
        "\n",
        "4. Modification : You cannot directly change a character in a string, but you can change, add, or remove\n",
        "elements in a list.\n",
        "\n",
        "5. Operations : Strings have text-specific methods (upper(), replace(), split()), while lists have collectionspecific methods (append(), remove(), sort()).\n",
        "\n",
        "\n",
        "6. Representation : Strings are written inside quotes (' ', \" \"), while lists are written inside square brackets [ ].\n",
        "\n",
        "7. Usage : Strings are used for text data, while lists are used for storing a sequence of items.\n",
        "\n",
        "\n",
        "Q7.How do tuples ensure data integrity in Python?\n",
        "\n",
        ".Tuples ensure data integrity in Python mainly because they are immutable.\n",
        "Other reasons tuples ensure data integrity:\n",
        "1. Prevents accidental changes : Since tuples can’t be modified, your data stays exactly as it was when created.\n",
        "2. Reliable as constants : Tuples can store fixed data (like configuration values) that must remain the same throughout the\n",
        "program.\n",
        "3. Safe for keys in dictionaries : Their immutability allows them to be used as dictionary keys or stored in sets without risk\n",
        "of being altered.\n",
        "4. Predictable behavior : No unexpected changes in tuple data make debugging and tracking logic easier.\n",
        "5. Thread-safety : In multi-threaded programs, immutable data structures like tuples reduce the chance of data corruption\n",
        "from concurrent modifications.\n",
        "\n",
        "\n",
        "\n",
        "Q8.What is a hash table, and how does it relate to dictionaries in Python?\n",
        "\n",
        ". A hash table is a data structure that stores key-value pairs and allows very fast data access (average0(1) times).\n",
        "\n",
        ". it uses a hash function to convert a key (like\"apple\") into a numerical value (hash code).\n",
        "\n",
        ".That hash code is then mapped to a specific location (called a bucket or slot) in memory where the value is stored.\n",
        "\n",
        ". It is related to dictionaries in python because python's dict is impelemented usiing a hash table.\n",
        "\n",
        ".Keys-stored using their hash values.\n",
        "\n",
        ".Values- stored at the memory location determined by the hash.\n",
        "\n",
        ".Lookups, insertions,and deletions in a dictionary are generally 0(1) on average.\n",
        "\n",
        ".Example-my_dict{\"apple\":10,\"banana\":20}\n",
        "\n",
        "print(my_dict[\"apple\"])\n",
        "\n",
        "# uses the hash of \"apple\" to quickly fetch 10\n",
        "\n",
        "Q9.Can lists contain different data types in Python?\n",
        "\n",
        ". lists in Python can contain different data types in the same list.\n",
        "A list can hold integers, floats, strings, booleans, objects, even other lists — all mixed together.\n",
        "\n",
        "This is possible because Python lists are dynamic and store references to objects, not fixed-type elements.\n",
        "\n",
        "my_list = [10, \"Hello\", 3.14, True, [1, 2, 3]]\n",
        "\n",
        "print(my_list)\n",
        "\n",
        "\n",
        "Q10.Explain why strings are immutable in Python?\n",
        "\n",
        ".Strings are immutable in python because of the following ways:\n",
        "1. Memory efficiency : Immutability allows Python to reuse identical string objects (string interning), saving memory.\n",
        "2. Hash consistency : Strings must stay unchanged so their hash value remains constant when used as dictionary or set\n",
        "keys.\n",
        "3. Thread-safety : Because strings can’t be modified, they can be shared between threads without risk of corruption.\n",
        "4. Predictable behavior : Fixed, unchangeable strings prevent accidental changes, making code more reliable.\n",
        "5. Performance optimization : Immutable strings can be stored and accessed in a way that speeds up certain operations\n",
        "\n",
        "Q11.What advantages do dictionaries offer over lists for certain tasks?\n",
        "\n",
        ".Advantages do dictionaries offer over lists for certain tasks are:\n",
        "1. Faster lookups : Dictionaries provide average O(1) time complexity for accessing values by key, while lists take O(n) for\n",
        "searches.\n",
        "2. Key-based access : You can access data using meaningful keys instead of relying on numeric indexes.\n",
        "3. No need for manual searching : Values are retrieved directly by key without iterating through the entire collection.\n",
        "4. Unordered but organized : Data is stored in a way that’s easy to manage when you care about associations rather than\n",
        "order5. Flexible keys and values : Keys can be any immutable type (string, number, tuple), and values can be any data type.\n",
        "6. Clear mapping of data : Perfect for storing real-world data with a clear “label → value” relationship.\n",
        "# List of [name, phone] pairs\n",
        "contacts_list = [[\"Alice\", \"1234\"], [\"Bob\", \"5678\"], [\"Charlie\", \"9101\"]]\n",
        "# Find Bob's number\n",
        "for name, phone in contacts_list:\n",
        "if name == \"Bob\":\n",
        "print(phone) # Output: 5678\n",
        "break\n",
        "# Dictionary of name: phone pairs\n",
        "contacts_dict = {\"Alice\": \"1234\", \"Bob\": \"5678\", \"Charlie\": \"9101\"}\n",
        "# Find Bob's number\n",
        "print(contacts_dict[\"Bob\"]) # Output: 5678\n",
        "\n",
        "Difference : Time Complexity of Dictionary is O(1) where as list is O(n)\n",
        "\n",
        "Q12. Describe a scenario where using a tuple would be preferable over a list?\n",
        "\n",
        ".A tuple is an immutable sequence,meaning ots contents cannot be changed after creation. This immutability gives tuples some advantages over lists in certian scenarios.\n",
        "\n",
        ".Example-\n",
        "\n",
        ".(1)Data that shouldn't changed (fixed records)-- If you want to store information that must remain constant:\n",
        "\n",
        ".point=(10,20)# Tuple--safe,won't acceidentlly change\n",
        "\n",
        ".using a list here woukd allow modification (point[0]=99),which might not be desirable.\n",
        "\n",
        ".(2)As Dictionary keys or set elements--\n",
        "\n",
        ".Dictionary keys and set elements must be hashable (immutable).\n",
        "\n",
        ". Tuples can be keys.\n",
        "\n",
        ". Lists cannot.\n",
        "\n",
        ". location_population={\n",
        "           (28.7041, 77.1025):\"delhi\", (19.0760,72,8777):\"mumbai\"\n",
        "}\n",
        "\n",
        ".You can't do this with lists as keys.\n",
        "\n",
        ".(3) Function returns with multiple values--Functios often return tulpes because  the result is fixed collection.\n",
        "\n",
        ". def divide(a,b):\n",
        "      return(a//b,a%b)# quotient and remainder\n",
        "\n",
        ". q,r= divide(10,3)#tuplews unpaacking\n",
        "\n",
        ".(4) Readablity: Representing structured, fixed data\n",
        "\n",
        ". Tuples convey the data of a fixed sized structured record.\n",
        "\n",
        ".Example :(day, month ,year) is naturally a tuple , not list.\n",
        "\n",
        ".(5) Performance-- Tuples are slightly faster than lists for iteration and use less memory, since they don't need the overhead of mutablity this matter when you have largew amount of fixed data.\n",
        "\n",
        "Q13. How do sets handle duplicate values in Python?\n",
        "\n",
        ".Sets automatically remove duplicate values because they only store unique elements.\n",
        "\n",
        "When you try to add a duplicate to a set, Python ignores it silently.\n",
        "\n",
        "This is possible because sets use a hash table internally, where each element’s hash value must be unique.\n",
        "\n",
        "my_set = {1, 2, 2, 3, 3, 3}\n",
        "\n",
        "print(my_set)\n",
        "\n",
        "Q14.  How does the “in” keyword work differently for lists and dictionaries?\n",
        "\n",
        ". **For Lists:**\n",
        "\n",
        "The in keyword checks whether a given value (element) exists inside the list.\n",
        "\n",
        "It performs a linear search, meaning it goes through elements one by one until it finds a match.\n",
        "\n",
        "Example:\n",
        "\n",
        "numbers = [10, 20, 30, 40]\n",
        "\n",
        "print(20 in numbers)   # True\n",
        "\n",
        "print(25 in numbers)   # False\n",
        "\n",
        "\n",
        "Here, Python checks each element in the list to see if 20 or 25 is present.\n",
        "\n",
        " **For Dictionaries:**\n",
        "\n",
        "The in keyword checks whether a given key exists in the dictionary, not the value.\n",
        "\n",
        "Example:\n",
        "\n",
        "student = {\"name\": \"Alex\", \"age\": 21, \"grade\": \"A\"}\n",
        "\n",
        "print(\"name\" in student)   # True (checks keys)\n",
        "\n",
        "print(\"Alex\" in student)   # False (it's a value, not a key)\n",
        "\n",
        "\n",
        "If you want to check values instead, you must explicitly use .values():\n",
        "\n",
        "print(\"Alex\" in student.values())  # True\n",
        "\n",
        "Q15. Can you modify the elements of a tuple? Explain why or why not?\n",
        "\n",
        ".No we cannot modify the elements of a tuple in Python.\n",
        "\n",
        "Reason:\n",
        "\n",
        "(1). Tuples are immutable, meaning once they are created, their elements cannot be changed, added, or removed.\n",
        "\n",
        "(2). This immutability ensures data integrity, allows tuples to be used as dictionary keys or stored in sets, and makes them\n",
        "more memory-efficient and thread-safe.\n",
        "\n",
        "t = (1, 2, 3)\n",
        "\n",
        "t[0] = 10 # TypeError: 'tuple' object does not support item assignment\n",
        "\n",
        "Q16. What is a nested dictionary, and give an example of its use case?\n",
        "\n",
        ".Nested Dictionary:\n",
        "\n",
        "1. A nested dictionary is a dictionary that contains another dictionary as one or more of its values.\n",
        "\n",
        "2. It’s used to store hierarchical or structured data in a compact, organized way.\n",
        "\n",
        ".Example of usecase-\n",
        "\n",
        "students = {\n",
        "\n",
        "\"Alice\": {\"age\": 20, \"marks\": {\"Math\": 90, \"Science\": 85}},\n",
        "\n",
        "\"Bob\": {\"age\": 22, \"marks\": {\"Math\": 78, \"Science\": 88}}\n",
        "\n",
        "}\n",
        "\n",
        "# Access Bob's Science marks\n",
        "\n",
        "print(students[\"Bob\"][\"marks\"][\"Science\"])\n",
        "\n",
        "Q17.Describe the time complexity of accessing elements in a dictionary?\n",
        "\n",
        ".Accessing elements in a dictionary in Python has:\n",
        "\n",
        "1. Average case: O(1) : Constant time, because dictionaries use a hash table for key lookups.\n",
        "\n",
        "2. Worst case: O(n) : Happens rarely, only when many keys have the same hash value (hash collision) and Python has to\n",
        "search through them linearly.\n",
        "\n",
        "person = {\"name\": \"Alice\", \"age\": 25}\n",
        "\n",
        "print(person[\"age\"]) # O(1) average time\n",
        "\n",
        "Q18.In what situations are lists preferred over dictionaries?\n",
        "\n",
        ".Situations where lists are preferred over dictionaries:\n",
        "\n",
        "(1). Order matters : When you need to preserve and work with the sequence of elements.\n",
        "\n",
        "(2). No key-value mapping needed : When you only care about storing values, not associating them with unique keys.\n",
        "\n",
        "(3). Allow duplicates : When you need to store the same value multiple times.\n",
        "\n",
        "(4). Index-based access : When elements are best accessed by their position (index) rather than by a key.\n",
        "\n",
        "(5). Small datasets : For small collections where the speed benefit of a dictionary is negligible.\n",
        "\n",
        "(6). Iteration over values : When you want to loop through elements directly without worrying about keys.\n",
        "\n",
        "fruits = [\"apple\", \"banana\", \"orange\", \"banana\"]\n",
        "\n",
        "print(fruits[1])\n",
        "\n",
        "Q19.Why are dictionaries considered unordered, and how does that affect data retrieval?\n",
        "\n",
        ".Dictionaries are considered unordered because of the following ways:\n",
        "\n",
        "(1). Before Python 3.7 dictionaries did not gurantee that elements would be stored or itreated in the order they were inserted.\n",
        "\n",
        "(2). This is because dictionaries are implemented using a hash table where the storage location of each key-value pair depends on the key's hash value not its position.\n",
        "\n",
        ".Effect on dat retrival.\n",
        "\n",
        "(1). key-based retrival is unaffected we can always access a value directly using key in 0(1) times , regardless of order.\n",
        "\n",
        "(2). However itreation orede was unpredictable in older versions of python meaning looping over a dictionaries could product elements in any sequence.\n",
        "\n",
        "(3). From python 3.7+ insertion order is preserved as an implemention details but retrieval by key is still independent od oredr\n",
        "\n",
        "Q20.Explain the difference between a list and a dictionary in terms of data retrieval?\n",
        "\n",
        ".Difference between a list and a dictionary in terms of data retrieval:\n",
        "\n",
        "(1). List : Retrieval is index-based\n",
        "\n",
        "We access elements using their position (0, 1, 2, …).\n",
        "\n",
        "Time complexity: O(1) for direct index access, but O(n) if you search for a value.\n",
        "\n",
        "fruits = [\"apple\", \"banana\", \"cherry\"]\n",
        "\n",
        "print(fruits[1])\n",
        "\n",
        "(2). Dictionary : Retrieval is key-based\n",
        "\n",
        "We access values using unique keys, not positions.\n",
        "\n",
        "Time complexity: O(1) on average because of hashing.\n",
        "\n",
        "person = {\"name\": \"Alice\", \"age\": 25}\n",
        "\n",
        "print(person[\"age\"])\n",
        "\n"
      ],
      "metadata": {
        "id": "cmrokbReGgm1"
      }
    },
    {
      "cell_type": "code",
      "source": [
        "#Q1 Write a code to create a string with your name and print it?\n",
        "\n",
        "name=\"Bejeel\"\n",
        "print(name)"
      ],
      "metadata": {
        "colab": {
          "base_uri": "https://localhost:8080/"
        },
        "id": "WRul5tT60H7u",
        "outputId": "21b8e775-2803-49bb-d739-020b662bb83a"
      },
      "execution_count": null,
      "outputs": [
        {
          "output_type": "stream",
          "name": "stdout",
          "text": [
            "Bejeel\n"
          ]
        }
      ]
    },
    {
      "cell_type": "code",
      "execution_count": null,
      "metadata": {
        "id": "_sqgeAc1EeaB",
        "colab": {
          "base_uri": "https://localhost:8080/"
        },
        "outputId": "435a61ab-2373-4061-fed4-a06788b2f625"
      },
      "outputs": [
        {
          "output_type": "stream",
          "name": "stdout",
          "text": [
            "11\n"
          ]
        }
      ],
      "source": [
        "#Q2 Write a code to find the length of the string \"Hello World\"?\n",
        "\n",
        "string=\"hello world\"\n",
        "print(len(string))"
      ]
    },
    {
      "cell_type": "code",
      "source": [
        "#Q3 Write a code to slice the first 3 characters from the string \"Python Programming\"?\n",
        "\n",
        "string=\"pyhton programing\"\n",
        "print(string[0:3])"
      ],
      "metadata": {
        "colab": {
          "base_uri": "https://localhost:8080/"
        },
        "id": "lP5QF5MR1zK0",
        "outputId": "f49a1070-7fe6-4d22-9c97-2ae53c85c722"
      },
      "execution_count": null,
      "outputs": [
        {
          "output_type": "stream",
          "name": "stdout",
          "text": [
            "pyh\n"
          ]
        }
      ]
    },
    {
      "cell_type": "code",
      "source": [
        "#Q4 Write a code to convert the string \"hello\" to uppercase?\n",
        "\n",
        "string= \"hello\"\n",
        "print(string.upper())\n"
      ],
      "metadata": {
        "colab": {
          "base_uri": "https://localhost:8080/"
        },
        "id": "_lXMpGYD3uh4",
        "outputId": "c61b0dcb-ea95-4803-f574-a85785e64bde"
      },
      "execution_count": null,
      "outputs": [
        {
          "output_type": "stream",
          "name": "stdout",
          "text": [
            "HELLO\n"
          ]
        }
      ]
    },
    {
      "cell_type": "code",
      "source": [
        "#Q5 Write a code to replace the word \"apple\" with \"orange\" in the string \"I like apple\"\n",
        "\n",
        "sentence=\"I like apple\"\n",
        "my_new_sentence=sentence.replace(\"apple\",\"orange\")\n",
        "print(my_new_sentence)"
      ],
      "metadata": {
        "colab": {
          "base_uri": "https://localhost:8080/"
        },
        "id": "dyFmE4Eh4zbc",
        "outputId": "ae73866e-048c-4433-b58c-8a3b9c718fac"
      },
      "execution_count": null,
      "outputs": [
        {
          "output_type": "stream",
          "name": "stdout",
          "text": [
            "I like orange\n"
          ]
        }
      ]
    },
    {
      "cell_type": "code",
      "source": [
        "#Q6 Write a code to create a list with numbers 1 to 5 and print it?\n",
        "\n",
        "number=[1,2,3,4,5]\n",
        "print(number)"
      ],
      "metadata": {
        "colab": {
          "base_uri": "https://localhost:8080/"
        },
        "id": "GYf7-0uf5xiM",
        "outputId": "5a694263-d7ad-42f7-b5c7-ba65aace5d95"
      },
      "execution_count": null,
      "outputs": [
        {
          "output_type": "stream",
          "name": "stdout",
          "text": [
            "[1, 2, 3, 4, 5]\n"
          ]
        }
      ]
    },
    {
      "cell_type": "code",
      "source": [
        "#Q7 Write a code to append the number 10 to the list [1, 2, 3, 4]?\n",
        "\n",
        "number=[1,2,3,4]\n",
        "number.append(10)\n",
        "print(number)"
      ],
      "metadata": {
        "colab": {
          "base_uri": "https://localhost:8080/"
        },
        "id": "GLRBWqpi6EK7",
        "outputId": "502b227e-219e-4e98-931d-f35cebcd7fe6"
      },
      "execution_count": null,
      "outputs": [
        {
          "output_type": "stream",
          "name": "stdout",
          "text": [
            "[1, 2, 3, 4, 10]\n"
          ]
        }
      ]
    },
    {
      "cell_type": "code",
      "source": [
        "#Q8 Write a code to remove the number 3 from the list [1, 2, 3, 4, 5]?\n",
        "\n",
        "number=[1,2,3,4,5]\n",
        "number.remove(3)\n",
        "print(number)"
      ],
      "metadata": {
        "colab": {
          "base_uri": "https://localhost:8080/"
        },
        "id": "9Lac_Cx86Unp",
        "outputId": "7ff2f1c7-beae-42dd-9e06-94bee3a2e8ac"
      },
      "execution_count": null,
      "outputs": [
        {
          "output_type": "stream",
          "name": "stdout",
          "text": [
            "[1, 2, 4, 5]\n"
          ]
        }
      ]
    },
    {
      "cell_type": "code",
      "source": [
        "#Q9 Write a code to access the second element in the list ['a', 'b', 'c', 'd']?\n",
        "\n",
        "list=['a','b','c','d']\n",
        "second_list=list[1]\n",
        "print(second_list)"
      ],
      "metadata": {
        "colab": {
          "base_uri": "https://localhost:8080/"
        },
        "id": "J2ruTyr06oCU",
        "outputId": "f9edfc72-9a4a-4306-c693-a2337ad7b843"
      },
      "execution_count": null,
      "outputs": [
        {
          "output_type": "stream",
          "name": "stdout",
          "text": [
            "b\n"
          ]
        }
      ]
    },
    {
      "cell_type": "code",
      "source": [
        "#Q10 Write a code to reverse the list [10, 20, 30, 40, 50]?\n",
        "\n",
        "list=[10,20,30,40,50]\n",
        "list.reverse()\n",
        "print(list)"
      ],
      "metadata": {
        "colab": {
          "base_uri": "https://localhost:8080/"
        },
        "id": "sepLjhwO67B6",
        "outputId": "38b335a4-a3df-49f5-a24e-f74261a99e69"
      },
      "execution_count": null,
      "outputs": [
        {
          "output_type": "stream",
          "name": "stdout",
          "text": [
            "[50, 40, 30, 20, 10]\n"
          ]
        }
      ]
    },
    {
      "cell_type": "code",
      "source": [
        "#Q11 Write a code to create a tuple with the elements 100, 200, 300 and print it?\n",
        "\n",
        "tuple=(100,200,300)\n",
        "print(tuple)"
      ],
      "metadata": {
        "colab": {
          "base_uri": "https://localhost:8080/"
        },
        "id": "k-n596UU7oEr",
        "outputId": "31e06f3e-0b36-4b76-81aa-08ed3637138c"
      },
      "execution_count": null,
      "outputs": [
        {
          "output_type": "stream",
          "name": "stdout",
          "text": [
            "(100, 200, 300)\n"
          ]
        }
      ]
    },
    {
      "cell_type": "code",
      "source": [
        "#Q12 Write a code to access the second-to-last element of the tuple ('red', 'green', 'blue', 'yellow')?\n",
        "\n",
        "tuple=('red','green','blue','yellow')\n",
        "my_tuple=tuple[-2]\n",
        "print(my_tuple)"
      ],
      "metadata": {
        "colab": {
          "base_uri": "https://localhost:8080/"
        },
        "id": "Dxcz0W0a8Ey1",
        "outputId": "ddbede5a-431b-4e88-8f74-8c75643b7017"
      },
      "execution_count": null,
      "outputs": [
        {
          "output_type": "stream",
          "name": "stdout",
          "text": [
            "blue\n"
          ]
        }
      ]
    },
    {
      "cell_type": "code",
      "source": [
        "#Q13 Write a code to find the minimum number in the tuple (10, 20, 5, 15)?\n",
        "\n",
        "tuple =(10,20,5,15)\n",
        "print(min(tuple))"
      ],
      "metadata": {
        "colab": {
          "base_uri": "https://localhost:8080/"
        },
        "id": "Q8FkjwJu8ekU",
        "outputId": "714d0161-7efc-4d08-ed00-b2f028bb3b6a"
      },
      "execution_count": null,
      "outputs": [
        {
          "output_type": "stream",
          "name": "stdout",
          "text": [
            "5\n"
          ]
        }
      ]
    },
    {
      "cell_type": "code",
      "source": [
        "#Q14 Write a code to find the index of the element \"cat\" in the tuple ('dog', 'cat', 'rabbit')?\n",
        "\n",
        "tuple = ('dog','cat','rabbit')\n",
        "print(tuple.index('cat'))\n",
        "\n"
      ],
      "metadata": {
        "colab": {
          "base_uri": "https://localhost:8080/"
        },
        "id": "BMw_f0WC9dV8",
        "outputId": "632843c7-ba83-4271-8105-86b7ada0a0b7"
      },
      "execution_count": null,
      "outputs": [
        {
          "output_type": "stream",
          "name": "stdout",
          "text": [
            "1\n"
          ]
        }
      ]
    },
    {
      "cell_type": "code",
      "source": [
        "#Q15  Write a code to create a tuple containing three different fruits and check if \"kiwi\" is in it?\n",
        "\n",
        "fruits=(\"apple\", \"banana\",\"kiwi\")\n",
        "print(\"kiwi\"in fruits)"
      ],
      "metadata": {
        "colab": {
          "base_uri": "https://localhost:8080/"
        },
        "id": "cUWriCn-_6t2",
        "outputId": "531bd649-a9f0-4bdb-fc83-80b17bf3771a"
      },
      "execution_count": null,
      "outputs": [
        {
          "output_type": "stream",
          "name": "stdout",
          "text": [
            "True\n"
          ]
        }
      ]
    },
    {
      "cell_type": "code",
      "source": [
        "#Q16 Write a code to create a set with the elements 'a', 'b', 'c' and print it?\n",
        "\n",
        "elements ={'a','b','c'}\n",
        "print(elements)\n",
        "print(type(elements))"
      ],
      "metadata": {
        "colab": {
          "base_uri": "https://localhost:8080/"
        },
        "id": "r7Caf0vHAn5_",
        "outputId": "b0a88ddc-7a66-43ca-85ed-f1d64f317b9d"
      },
      "execution_count": null,
      "outputs": [
        {
          "output_type": "stream",
          "name": "stdout",
          "text": [
            "{'c', 'b', 'a'}\n",
            "<class 'set'>\n"
          ]
        }
      ]
    },
    {
      "cell_type": "code",
      "source": [
        "#Q17  Write a code to clear all elements from the set {1, 2, 3, 4, 5}?\n",
        "\n",
        "elements={1,2,3,4,5}\n",
        "elements.clear()\n",
        "print(elements)"
      ],
      "metadata": {
        "colab": {
          "base_uri": "https://localhost:8080/"
        },
        "id": "N1r2sbJYBQAn",
        "outputId": "eb86cfb2-9763-49fb-d509-501475311c7e"
      },
      "execution_count": null,
      "outputs": [
        {
          "output_type": "stream",
          "name": "stdout",
          "text": [
            "set()\n"
          ]
        }
      ]
    },
    {
      "cell_type": "code",
      "source": [
        "#Q18 Write a code to remove the element 4 from the set {1, 2, 3, 4}?\n",
        "\n",
        "elements={1,2,3,4}\n",
        "elements.remove(4)\n",
        "print(elements)"
      ],
      "metadata": {
        "colab": {
          "base_uri": "https://localhost:8080/"
        },
        "id": "fod9vC-YBoqC",
        "outputId": "0419ca3b-8132-485b-90c6-eae165fa21d7"
      },
      "execution_count": null,
      "outputs": [
        {
          "output_type": "stream",
          "name": "stdout",
          "text": [
            "{1, 2, 3}\n"
          ]
        }
      ]
    },
    {
      "cell_type": "code",
      "source": [
        "#Q19  Write a code to find the union of two sets {1, 2, 3} and {3, 4, 5}?\n",
        "\n",
        "set1={1,2,3}\n",
        "set2={3,4,5}\n",
        "set3=set1 | set2\n",
        "print(set3)"
      ],
      "metadata": {
        "colab": {
          "base_uri": "https://localhost:8080/"
        },
        "id": "m6zSdEB1CKvj",
        "outputId": "89cdac01-a1b2-4f7c-d974-5d2057b84748"
      },
      "execution_count": null,
      "outputs": [
        {
          "output_type": "stream",
          "name": "stdout",
          "text": [
            "{1, 2, 3, 4, 5}\n"
          ]
        }
      ]
    },
    {
      "cell_type": "code",
      "source": [
        "#Q20 Write a code to find the intersection of two sets {1, 2, 3} and {2, 3, 4}?\n",
        "\n",
        "set1={1,2,3}\n",
        "set2={2,3,4}\n",
        "set3=set1 & set2\n",
        "print(set3)"
      ],
      "metadata": {
        "colab": {
          "base_uri": "https://localhost:8080/"
        },
        "id": "RwGsfkpjCsqz",
        "outputId": "3a2b5983-fa08-4a76-9ac8-675fb82e070c"
      },
      "execution_count": null,
      "outputs": [
        {
          "output_type": "stream",
          "name": "stdout",
          "text": [
            "{2, 3}\n"
          ]
        }
      ]
    },
    {
      "cell_type": "code",
      "source": [
        "#Q21 Write a code to create a dictionary with the keys \"name\", \"age\", and \"city\", and print it?\n",
        "\n",
        "my_dict={\"name\": \"bejeel\",\"age\":23,\"city\":\"jabalpur\"}\n",
        "print(my_dict)"
      ],
      "metadata": {
        "colab": {
          "base_uri": "https://localhost:8080/"
        },
        "id": "_jQu8PZjDW97",
        "outputId": "fdf46f2e-2756-442a-adea-5c35114973d1"
      },
      "execution_count": null,
      "outputs": [
        {
          "output_type": "stream",
          "name": "stdout",
          "text": [
            "{'name': 'bejeel', 'age': 23, 'city': 'jabalpur'}\n"
          ]
        }
      ]
    },
    {
      "cell_type": "code",
      "source": [
        "#Q22 Write a code to add a new key-value pair \"country\": \"USA\" to the dictionary {'name': 'John', 'age': 25}?\n",
        "\n",
        "my_dict={'name': 'John', 'age': 25}\n",
        "my_dict[\"country\"]=\"USA\"\n",
        "print(my_dict)"
      ],
      "metadata": {
        "colab": {
          "base_uri": "https://localhost:8080/"
        },
        "id": "eaCu-J2UEBtP",
        "outputId": "855e3b98-b328-46bb-c1ef-9916efb94ef0"
      },
      "execution_count": null,
      "outputs": [
        {
          "output_type": "stream",
          "name": "stdout",
          "text": [
            "{'name': 'John', 'age': 25, 'country': 'USA'}\n"
          ]
        }
      ]
    },
    {
      "cell_type": "code",
      "source": [
        "#Q23 Write a code to access the value associated with the key \"name\" in the dictionary {'name': 'Alice', 'age': 30}?\n",
        "\n",
        "my_dict={'name': 'Alice', 'age': 30}\n",
        "print(my_dict['name'])"
      ],
      "metadata": {
        "colab": {
          "base_uri": "https://localhost:8080/"
        },
        "id": "NMSLVHqMETNi",
        "outputId": "708cbe1f-1c46-4e78-a0c6-97e666477983"
      },
      "execution_count": null,
      "outputs": [
        {
          "output_type": "stream",
          "name": "stdout",
          "text": [
            "Alice\n"
          ]
        }
      ]
    },
    {
      "cell_type": "code",
      "source": [
        "#Q24  Write a code to remove the key \"age\" from the dictionary {'name': 'Bob', 'age': 22, 'city': 'New York'}?\n",
        "\n",
        "my_dict={'name': 'Bob', 'age': 22, 'city': 'New York'}\n",
        "my_dict.pop('age')\n",
        "print(my_dict)\n"
      ],
      "metadata": {
        "colab": {
          "base_uri": "https://localhost:8080/"
        },
        "id": "iOkmQLM8EkNu",
        "outputId": "e4af473c-ff46-4499-e6f0-f1e64f817259"
      },
      "execution_count": null,
      "outputs": [
        {
          "output_type": "stream",
          "name": "stdout",
          "text": [
            "{'name': 'Bob', 'city': 'New York'}\n"
          ]
        }
      ]
    },
    {
      "cell_type": "code",
      "source": [
        "#Q25 Write a code to check if the key \"city\" exists in the dictionary {'name': 'Alice', 'city': 'Paris'}?\n",
        "\n",
        "my_dict={\"name\":\"alice\",\"city\":\"paris\"}\n",
        "print(\"city\" in my_dict)"
      ],
      "metadata": {
        "colab": {
          "base_uri": "https://localhost:8080/"
        },
        "id": "b-MvEHDzFD6-",
        "outputId": "bdaa8979-51d1-470e-c13d-026749f01724"
      },
      "execution_count": null,
      "outputs": [
        {
          "output_type": "stream",
          "name": "stdout",
          "text": [
            "True\n"
          ]
        }
      ]
    },
    {
      "cell_type": "code",
      "source": [
        "#Q26 Write a code to create a list, a tuple, and a dictionary, and print them all?\n",
        "\n",
        "list=[1,2,3,4]\n",
        "tuple=(1,2,3,4)\n",
        "my_dict={\"name\":\"bejeel\",\"city\":\"jabalpur\"}\n",
        "print( list)\n",
        "print( tuple)\n",
        "print(my_dict)"
      ],
      "metadata": {
        "colab": {
          "base_uri": "https://localhost:8080/"
        },
        "id": "9eWrIirgGHdz",
        "outputId": "496cbcc3-c98f-4a8b-f610-04d3494be3e7"
      },
      "execution_count": null,
      "outputs": [
        {
          "output_type": "stream",
          "name": "stdout",
          "text": [
            "[1, 2, 3, 4]\n",
            "(1, 2, 3, 4)\n",
            "{'name': 'bejeel', 'city': 'jabalpur'}\n"
          ]
        }
      ]
    },
    {
      "cell_type": "code",
      "source": [
        "#Q27 Write a code to create a list of 5 random numbers between 1 and 100, sort it in ascending order, and print the result.(replaced)?\n",
        "\n",
        "import random\n",
        "random_numbers=[random.randint(1,100) for i in range(5)]\n",
        "random_numbers.sort()\n",
        "print(random_numbers)\n",
        "\n"
      ],
      "metadata": {
        "colab": {
          "base_uri": "https://localhost:8080/"
        },
        "id": "jJzDE0shGzrW",
        "outputId": "1a97d91b-73a7-4545-f42e-8f8e3713b32e"
      },
      "execution_count": null,
      "outputs": [
        {
          "output_type": "stream",
          "name": "stdout",
          "text": [
            "[3, 12, 69, 88, 99]\n"
          ]
        }
      ]
    },
    {
      "cell_type": "code",
      "source": [
        "#Q28 Write a code to create a list with strings and print the element at the third index?\n",
        "\n",
        "fruits=[\"apple\",\"banana\",\"orange\",\"kiwi\"]\n",
        "print(fruits[2])"
      ],
      "metadata": {
        "colab": {
          "base_uri": "https://localhost:8080/"
        },
        "id": "p_Bu_fCaHN0x",
        "outputId": "56d6ff16-7050-4d2f-96ff-d36f60c93cc1"
      },
      "execution_count": null,
      "outputs": [
        {
          "output_type": "stream",
          "name": "stdout",
          "text": [
            "orange\n"
          ]
        }
      ]
    },
    {
      "cell_type": "code",
      "source": [
        "#Q29 Write a code to combine two dictionaries into one and print the result?\n",
        "\n",
        "dict1={\"a\": 1, \"b\": 2}\n",
        "dict2={\"c\": 3, \"d\": 4}\n",
        "combined_dict={**dict1,**dict2}\n",
        "print(combined_dict)\n"
      ],
      "metadata": {
        "id": "T1mB1gHaHi4I",
        "colab": {
          "base_uri": "https://localhost:8080/"
        },
        "outputId": "2371fe71-74c6-4300-c6cb-372e54240a88"
      },
      "execution_count": null,
      "outputs": [
        {
          "output_type": "stream",
          "name": "stdout",
          "text": [
            "{'a': 1, 'b': 2, 'c': 3, 'd': 4}\n"
          ]
        }
      ]
    },
    {
      "cell_type": "code",
      "source": [
        "#Q30 Write a code to convert a list of strings into a set?\n",
        "\n",
        "list =[\"apple\",\"banana\",\"mango\"]\n",
        "print(set(list))"
      ],
      "metadata": {
        "colab": {
          "base_uri": "https://localhost:8080/"
        },
        "id": "x1cbZuKpIcR0",
        "outputId": "e23dc39d-94c2-4827-8f3d-8845ed8687d5"
      },
      "execution_count": null,
      "outputs": [
        {
          "output_type": "stream",
          "name": "stdout",
          "text": [
            "{'mango', 'banana', 'apple'}\n"
          ]
        }
      ]
    },
    {
      "cell_type": "code",
      "source": [],
      "metadata": {
        "id": "7Kr8nIGMI1Mu"
      },
      "execution_count": null,
      "outputs": []
    }
  ]
}